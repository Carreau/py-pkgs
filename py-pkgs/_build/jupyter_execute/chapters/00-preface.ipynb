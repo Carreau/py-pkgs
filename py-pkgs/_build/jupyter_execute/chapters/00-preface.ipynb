{
 "cells": [
  {
   "cell_type": "markdown",
   "metadata": {},
   "source": [
    "(00-welcome)=\n",
    "# Welcome to Py-Pkgs!"
   ]
  },
  {
   "cell_type": "markdown",
   "metadata": {},
   "source": [
    "[Tomas Beuzen](https://www.tomasbeuzen.com/) & [Tiffany Timbers](http://tiffanytimbers.com)"
   ]
  },
  {
   "cell_type": "markdown",
   "metadata": {},
   "source": [
    "This book is aimed at intermediate Python users who want to package up their code to share it with their collaborators (including their future selves) and the wider Python community. It's scope and intent is inspired by the [R packages](https://r-pkgs.org/) book written by Hadley Wickham and Jenny Bryan. \n",
    "\n",
    "```{figure} img/project/py-pkgs-hex.png\n",
    "---\n",
    "height: 300px\n",
    "name: py-pkg\n",
    "---\n",
    "The Py-Pkgs hex.\n",
    "```"
   ]
  },
  {
   "cell_type": "markdown",
   "metadata": {},
   "source": [
    "\n",
    "```{toctree}\n",
    ":hidden:\n",
    ":titlesonly:\n",
    ":numbered: \n",
    "\n",
    "01-setup\n",
    "02-the-whole-game\n",
    "03-package-structure\n",
    "04-testing\n",
    "05-documentation\n",
    "06-releasing-versioning\n",
    "07-ci-cd\n",
    "08-cli\n",
    "09-cheatsheet\n",
    "```\n"
   ]
  }
 ],
 "metadata": {
  "kernelspec": {
   "display_name": "Python 3",
   "language": "python",
   "name": "python3"
  },
  "language_info": {
   "codemirror_mode": {
    "name": "ipython",
    "version": 3
   },
   "file_extension": ".py",
   "mimetype": "text/x-python",
   "name": "python",
   "nbconvert_exporter": "python",
   "pygments_lexer": "ipython3",
   "version": "3.8.5"
  }
 },
 "nbformat": 4,
 "nbformat_minor": 4
}